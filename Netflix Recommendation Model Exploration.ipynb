{
  "cells": [
    {
      "metadata": {
        "_uuid": "4755c4915c1449fc9d5be0e7d3cba71a3bbcce09",
        "_cell_guid": "ad72abc6-6c95-45b2-aacc-42fbb85b8507"
      },
      "cell_type": "markdown",
      "source": "Agrim Gupta\n<br>\n<br>\n\n\n# Netflix Analytics - Movie Recommendation through Correlations\n<br>\n\nHey Netflix! let's start exposing some secrets.\n\nThis analysis has been done to understand Netflix's recommendation model. Netflix's original dataset has been used.  4 thousand titles and 0.4 million users' data has been used. \n"
    },
    {
      "metadata": {
        "_uuid": "8482ce5398e66af9faa64f603c4ebd2b5324ad33",
        "_cell_guid": "e7fd6bbb-9fb6-455f-8f14-6fb25d55c866"
      },
      "cell_type": "markdown",
      "source": "## Table of Content:\n\n* Objective\n\n* Data manipulation\n    -  Data loading\n    -  Data viewing\n    -  Data cleaning\n    -  Data slicing\n    -  Data mapping\n    \n* Recommendation models\n    -  Recommend with Collaborative Filtering (*Edit on 2017/11/07*)\n    -  Recommend with Pearsons' R correlation"
    },
    {
      "metadata": {
        "_uuid": "689e0500abe3bd15f72c1cb3010c538c90631b50",
        "_cell_guid": "68066366-4219-4779-a159-d503bdedbfdd"
      },
      "cell_type": "markdown",
      "source": "# Objective\n<br>\nLearn from data and recommend best TV shows to users, based on self & others behaviour\n<br>"
    },
    {
      "metadata": {
        "_uuid": "8656955e16b88d57f19a3789c90069059ba884b9",
        "_cell_guid": "fbfaefbf-fda2-46ce-9e22-59b2c8d17fa2"
      },
      "cell_type": "markdown",
      "source": "# Data manipulation"
    },
    {
      "metadata": {
        "_uuid": "2101d86c2cf3f7a61475ea82aaa3c5dd068cf187",
        "_cell_guid": "5a824059-8c9b-4418-9a24-f833943d49cb"
      },
      "cell_type": "markdown",
      "source": "## Data loading"
    },
    {
      "metadata": {
        "_uuid": "d0978db1b40af98cf11b5b185ef264a9891d183d",
        "_cell_guid": "4092e050-1938-4283-9b18-396c60e94ee1"
      },
      "cell_type": "markdown",
      "source": "Each data file (there are 4 of them) contains below columns:\n\n* Movie ID (as first line of each new movie record / file)\n* Customer ID\n* Rating (1 to 5)\n* Date they gave the ratings\n\nThere is another file contains the mapping of Movie ID to the movie background like name, year of release, etc"
    },
    {
      "metadata": {
        "_uuid": "1f60257741c703435318df7e05e2a46c6e11af63",
        "_cell_guid": "637b34e2-b123-4b2d-8e70-97631b0321f9"
      },
      "cell_type": "markdown",
      "source": "Let's import the library we needed before we get started:"
    },
    {
      "metadata": {
        "_uuid": "3bc39967a41f9ec3989f971c49916b822b0806b7",
        "_cell_guid": "046298b9-7ef7-4e68-aef2-a1fe316be5a0",
        "trusted": true
      },
      "cell_type": "code",
      "source": "import pandas as pd\nimport numpy as np\nimport math\nimport re\nfrom scipy.sparse import csr_matrix\nimport matplotlib.pyplot as plt\nimport seaborn as sns\nfrom surprise import Reader, Dataset, SVD, evaluate\nsns.set_style(\"darkgrid\")",
      "execution_count": 1,
      "outputs": []
    },
    {
      "metadata": {
        "_uuid": "665b9a4bceca7bb318e39f1a5825170b18c6cc63",
        "_cell_guid": "be4477f1-7a11-48f4-8147-262a6198609f"
      },
      "cell_type": "markdown",
      "source": "Next let's load first data file and get a feeling of how huge the dataset is:"
    },
    {
      "metadata": {
        "_uuid": "2a5476e11ee4539c129f2da35fccdacf2c296765",
        "_cell_guid": "0343ba37-0654-469c-98e5-812ecbaca528",
        "trusted": true
      },
      "cell_type": "code",
      "source": "# Skip date\ndf1 = pd.read_csv('../input/combined_data_1.txt', header = None, names = ['Cust_Id', 'Rating'], usecols = [0,1])\n\n# Important typecasting\ndf1['Rating'] = df1['Rating'].astype(float)\n\nprint('Dataset 1 shape: {}'.format(df1.shape))\nprint('-Dataset examples-')\n#print(df1.iloc[::5000000, :])\nprint(df1.head())",
      "execution_count": 2,
      "outputs": [
        {
          "output_type": "stream",
          "text": "Dataset 1 shape: (24058263, 2)\n-Dataset examples-\n   Cust_Id  Rating\n0       1:     NaN\n1  1488844     3.0\n2   822109     5.0\n3   885013     4.0\n4    30878     4.0\n",
          "name": "stdout"
        }
      ]
    },
    {
      "metadata": {
        "_uuid": "3509640b273342e38c2635d1bb003e0d33de9e8c",
        "_cell_guid": "b5d0ced5-5376-4ff5-86f9-e642a7adbd92"
      },
      "cell_type": "markdown",
      "source": "Let's try to load the 3 remaining dataset as well:"
    },
    {
      "metadata": {
        "_uuid": "a6ca9915b92abd2681ae9a355d446e73b6fbe795",
        "_cell_guid": "4a093a49-8a80-4afd-bc13-17b84b284142",
        "trusted": true
      },
      "cell_type": "code",
      "source": "#df2 = pd.read_csv('../input/combined_data_2.txt', header = None, names = ['Cust_Id', 'Rating'], usecols = [0,1])\n#df3 = pd.read_csv('../input/combined_data_3.txt', header = None, names = ['Cust_Id', 'Rating'], usecols = [0,1])\n#df4 = pd.read_csv('../input/combined_data_4.txt', header = None, names = ['Cust_Id', 'Rating'], usecols = [0,1])\n\n\n#df2['Rating'] = df2['Rating'].astype(float)\n#df3['Rating'] = df3['Rating'].astype(float)\n#df4['Rating'] = df4['Rating'].astype(float)\n\n#print('Dataset 2 shape: {}'.format(df2.shape))\n#print('Dataset 3 shape: {}'.format(df3.shape))\n#print('Dataset 4 shape: {}'.format(df4.shape))",
      "execution_count": 3,
      "outputs": []
    },
    {
      "metadata": {
        "_uuid": "ebf5b154314c1268b4fffdf0449172b71e393c4f",
        "_cell_guid": "11ca529c-e11c-4ec1-b9e9-d6c6c45163de"
      },
      "cell_type": "markdown",
      "source": "![](http://)![](http://)Combining these datasets:"
    },
    {
      "metadata": {
        "_uuid": "4ea5a28d0108d2b272f1d30cf749080c4e94e66d",
        "_cell_guid": "ded88177-b586-48f2-bf3d-e1a892aca10e",
        "trusted": true
      },
      "cell_type": "code",
      "source": "# load less data for speed\n\ndf = df1\n#df = df1.append(df2)\n#df = df.append(df3)\n#df = df.append(df4)\n\ndf.index = np.arange(0,len(df))\nprint('Full dataset shape: {}'.format(df.shape))\nprint('-Dataset examples-')\nprint(df.iloc[::5000000, :])",
      "execution_count": 4,
      "outputs": [
        {
          "output_type": "stream",
          "text": "Full dataset shape: (24058263, 2)\n-Dataset examples-\n          Cust_Id  Rating\n0              1:     NaN\n5000000   2560324     4.0\n10000000  2271935     2.0\n15000000  1921803     2.0\n20000000  1933327     3.0\n",
          "name": "stdout"
        }
      ]
    },
    {
      "metadata": {
        "_uuid": "5bfa706c8f28f965b669dcfb285c9c32c1478bad",
        "_cell_guid": "78a857d7-1ab1-4d93-b750-9c14b4ba2c9a"
      },
      "cell_type": "markdown",
      "source": "## Data viewing"
    },
    {
      "metadata": {
        "_uuid": "b96e6aebfe14e3be18722b759654b732b8fa4d51",
        "_cell_guid": "48f3f057-706a-4667-b58e-79d70893cbb1"
      },
      "cell_type": "markdown",
      "source": "[](http://)First look of data distribution:-"
    },
    {
      "metadata": {
        "_uuid": "7e8780821d463af5bdcee9ec2662cf27d89745e4",
        "_cell_guid": "0d82d7df-6c77-44f2-a0bc-70ae0324329f",
        "trusted": true
      },
      "cell_type": "code",
      "source": "p = df.groupby('Rating')['Rating'].agg(['count'])\n\n# get movie count\nmovie_count = df.isnull().sum()[1]\n\n# get customer count\ncust_count = df['Cust_Id'].nunique() - movie_count\n\n# get rating count\nrating_count = df['Cust_Id'].count() - movie_count\n\nax = p.plot(kind = 'barh', legend = False, figsize = (15,10))\nplt.title('Total pool: {:,} Movies, {:,} customers, {:,} ratings given'.format(movie_count, cust_count, rating_count), fontsize=20)\nplt.axis('off')\n\nfor i in range(1,6):\n    ax.text(p.iloc[i-1][0]/4, i-1, 'Rating {}: {:.0f}%'.format(i, p.iloc[i-1][0]*100 / p.sum()[0]), color = 'white', weight = 'bold')\n\n",
      "execution_count": 5,
      "outputs": [
        {
          "output_type": "display_data",
          "data": {
            "text/plain": "<Figure size 1080x720 with 1 Axes>",
            "image/png": "[encoded data removed]"
          },
          "metadata": {}
        }
      ]
    },
    {
      "metadata": {
        "_uuid": "dddad55f2699f3f4c02ae64a3e470c314e248643",
        "_cell_guid": "a7394a2b-8c79-40b8-b967-765d3ae0ad10"
      },
      "cell_type": "markdown",
      "source": "We can see that the rating tends to be relatively positive (>3). This may be due to the fact that unhappy customers tend to just leave instead of making efforts to rate. We can keep this in mind - low rating movies mean they are generally really bad"
    },
    {
      "metadata": {
        "_uuid": "bf7bd867b322b3e40c4eb1204d345029b4eb31b6",
        "_cell_guid": "581427e0-87df-46b1-a0af-7eb06932b1a3"
      },
      "cell_type": "markdown",
      "source": "## Data cleaning"
    },
    {
      "metadata": {
        "_uuid": "f232d44b5a8282bdcfbab54861bbd7990132e2c7",
        "_cell_guid": "3165defc-df86-49a8-ba51-6abb9fa253b1"
      },
      "cell_type": "markdown",
      "source": "Making the Movie ID column more efficient"
    },
    {
      "metadata": {
        "_uuid": "498476341fad8d25d24090c07ea4b48299f9424a",
        "_cell_guid": "d06e0993-d5ff-4f75-87a7-7659f5427ebf",
        "trusted": true,
        "_kg_hide-output": false,
        "_kg_hide-input": false
      },
      "cell_type": "code",
      "source": "df_nan = pd.DataFrame(pd.isnull(df.Rating))\ndf_nan = df_nan[df_nan['Rating'] == True]\ndf_nan = df_nan.reset_index()\n\nmovie_np = []\nmovie_id = 1\n\nfor i,j in zip(df_nan['index'][1:],df_nan['index'][:-1]):\n    # numpy approach\n    temp = np.full((1,i-j-1), movie_id)\n    movie_np = np.append(movie_np, temp)\n    movie_id += 1\n\n# Account for last record and corresponding length\n# numpy approach\nlast_record = np.full((1,len(df) - df_nan.iloc[-1, 0] - 1),movie_id)\nmovie_np = np.append(movie_np, last_record)\n\nprint('Movie numpy: {}'.format(movie_np))\nprint('Length: {}'.format(len(movie_np)))",
      "execution_count": 11,
      "outputs": [
        {
          "output_type": "stream",
          "text": "Movie numpy: [1.000e+00 1.000e+00 1.000e+00 ... 4.499e+03 4.499e+03 4.499e+03]\nLength: 24053764\n",
          "name": "stdout"
        }
      ]
    },
    {
      "metadata": {
        "_uuid": "73c7888f9cf7e1d0f705c6a14019d9371eaa9bf3",
        "_cell_guid": "e7da935d-a055-4ce6-9509-9c0439fda1de",
        "trusted": true
      },
      "cell_type": "code",
      "source": "# remove those Movie ID rows\ndf = df[pd.notnull(df['Rating'])]\n\ndf['Movie_Id'] = movie_np.astype(int)\ndf['Cust_Id'] = df['Cust_Id'].astype(int)\nprint('-Dataset examples-')\nprint(df.iloc[::5000000, :])\n",
      "execution_count": 12,
      "outputs": [
        {
          "output_type": "stream",
          "text": "/opt/conda/lib/python3.6/site-packages/ipykernel_launcher.py:4: SettingWithCopyWarning: \nA value is trying to be set on a copy of a slice from a DataFrame.\nTry using .loc[row_indexer,col_indexer] = value instead\n\nSee the caveats in the documentation: http://pandas.pydata.org/pandas-docs/stable/indexing.html#indexing-view-versus-copy\n  after removing the cwd from sys.path.\n",
          "name": "stderr"
        },
        {
          "output_type": "stream",
          "text": "-Dataset examples-\n          Cust_Id  Rating  Movie_Id\n1         1488844     3.0         1\n5000996    501954     2.0       996\n10001962   404654     5.0      1962\n15002876   886608     2.0      2876\n20003825  1193835     2.0      3825\n",
          "name": "stdout"
        },
        {
          "output_type": "stream",
          "text": "/opt/conda/lib/python3.6/site-packages/ipykernel_launcher.py:5: SettingWithCopyWarning: \nA value is trying to be set on a copy of a slice from a DataFrame.\nTry using .loc[row_indexer,col_indexer] = value instead\n\nSee the caveats in the documentation: http://pandas.pydata.org/pandas-docs/stable/indexing.html#indexing-view-versus-copy\n  \"\"\"\n",
          "name": "stderr"
        }
      ]
    },
    {
      "metadata": {
        "_uuid": "7abf85f047576e1c8fe7742e28bd2a55d33c366c",
        "_cell_guid": "fd1a2d66-78b0-4191-8ca2-0caef60e91fa"
      },
      "cell_type": "markdown",
      "source": "## Data slicing"
    },
    {
      "metadata": {
        "_uuid": "b0107145609698c552ad9e74fd192cbbe93c4bb3",
        "_cell_guid": "6532819a-7b08-45c4-8b25-952568d7d465"
      },
      "cell_type": "markdown",
      "source": "Reducing volume of data and making it more meaningful\n\n*Eliminating movies with few reviews\n*Eliminating users who rarely give ratings\n\nHaving above benchmark will have significant improvement on efficiency, since those unpopular movies and non-active customers still occupy same volumn as those popular movies and active customers in the view of matrix (NaN still occupy space). This should help improve the statistical signifiance too.\n\nImplementation:-"
    },
    {
      "metadata": {
        "_uuid": "b8987bf7e2cfcdc2a69fb767c4033d05240cc5a3",
        "_cell_guid": "1db45c46-ee82-4db5-be2c-919258c09d47",
        "trusted": true
      },
      "cell_type": "code",
      "source": "f = ['count','mean']\n\ndf_movie_summary = df.groupby('Movie_Id')['Rating'].agg(f)\ndf_movie_summary.index = df_movie_summary.index.map(int)\nmovie_benchmark = round(df_movie_summary['count'].quantile(0.8),0)\ndrop_movie_list = df_movie_summary[df_movie_summary['count'] < movie_benchmark].index\n\nprint('Movie minimum times of review: {}'.format(movie_benchmark))\n\ndf_cust_summary = df.groupby('Cust_Id')['Rating'].agg(f)\ndf_cust_summary.index = df_cust_summary.index.map(int)\ncust_benchmark = round(df_cust_summary['count'].quantile(0.8),0)\ndrop_cust_list = df_cust_summary[df_cust_summary['count'] < cust_benchmark].index\n\nprint('Customer minimum times of review: {}'.format(cust_benchmark))",
      "execution_count": 13,
      "outputs": [
        {
          "output_type": "stream",
          "text": "Movie minimum times of review: 3884.0\nCustomer minimum times of review: 79.0\n",
          "name": "stdout"
        }
      ]
    },
    {
      "metadata": {
        "_uuid": "bc6022b8d87bfb7679984bcbd4b928a54ef19be8",
        "_cell_guid": "bebeaf19-b3a0-45d9-8a91-deaff2881d71"
      },
      "cell_type": "markdown",
      "source": "Trimming down our data, whats the difference in data size?"
    },
    {
      "metadata": {
        "_uuid": "f09c53f0e7b7fea039437c43e5163a5a59250b70",
        "_cell_guid": "61f85e6a-3438-456b-b169-f42c0270a752",
        "trusted": true
      },
      "cell_type": "code",
      "source": "print('Original Shape: {}'.format(df.shape))\ndf = df[~df['Movie_Id'].isin(drop_movie_list)]\ndf = df[~df['Cust_Id'].isin(drop_cust_list)]\nprint('After Trim Shape: {}'.format(df.shape))\nprint('-Data Examples-')\nprint(df.iloc[::5000000, :])",
      "execution_count": 14,
      "outputs": [
        {
          "output_type": "stream",
          "text": "Original Shape: (24053764, 3)\nAfter Trim Shape: (13528427, 3)\n-Data Examples-\n          Cust_Id  Rating  Movie_Id\n5109       785314     1.0         8\n8889698    332300     3.0      1770\n17751978   629874     4.0      3391\n",
          "name": "stdout"
        }
      ]
    },
    {
      "metadata": {
        "_uuid": "ea0da55846a3795aead5d0365d5fcf91b03636ab",
        "_cell_guid": "7f10cc54-4021-4748-9f2f-933d541acee4"
      },
      "cell_type": "markdown",
      "source": "Pivoting the data set and putting it into a giant matrix - we need it for our recommendation system:"
    },
    {
      "metadata": {
        "_uuid": "528c8ecb8bbd94130e38e68362184087dcc39f83",
        "_cell_guid": "9e5a21fd-ccff-4fd3-aebe-cd82e5734ba9",
        "trusted": true
      },
      "cell_type": "code",
      "source": "df_p = pd.pivot_table(df,values='Rating',index='Cust_Id',columns='Movie_Id')\n\nprint(df_p.shape)\n",
      "execution_count": 15,
      "outputs": [
        {
          "output_type": "stream",
          "text": "(95325, 900)\n",
          "name": "stdout"
        }
      ]
    },
    {
      "metadata": {
        "_uuid": "598d5c85304513168b871257f5c3bd810a7a8da4",
        "_cell_guid": "62ba3943-5369-4df9-b33e-3a5a8b47e9f9"
      },
      "cell_type": "markdown",
      "source": "## Data mapping"
    },
    {
      "metadata": {
        "_uuid": "ab718ba4d0e6b3b95d03c25b577884e88af77b93",
        "_cell_guid": "7768ffa2-e387-4b15-8ef1-c808229f4dc0"
      },
      "cell_type": "markdown",
      "source": "Loading Mapping file"
    },
    {
      "metadata": {
        "_uuid": "d971e5a1ccd038f9a08e126daeb8995d30f9e014",
        "_cell_guid": "cec6d42b-adff-49c0-939c-2f92adae15a4",
        "trusted": true
      },
      "cell_type": "code",
      "source": "df_title = pd.read_csv('../input/movie_titles.csv', encoding = \"ISO-8859-1\", header = None, names = ['Movie_Id', 'Year', 'Name'])\ndf_title.set_index('Movie_Id', inplace = True)\nprint (df_title.head(10))",
      "execution_count": 16,
      "outputs": [
        {
          "output_type": "stream",
          "text": "            Year                          Name\nMovie_Id                                      \n1         2003.0               Dinosaur Planet\n2         2004.0    Isle of Man TT 2004 Review\n3         1997.0                     Character\n4         1994.0  Paula Abdul's Get Up & Dance\n5         2004.0      The Rise and Fall of ECW\n6         1997.0                          Sick\n7         1992.0                         8 Man\n8         2004.0    What the #$*! Do We Know!?\n9         1991.0      Class of Nuke 'Em High 2\n10        2001.0                       Fighter\n",
          "name": "stdout"
        }
      ]
    },
    {
      "metadata": {
        "_uuid": "c6becd707a3c14a5c76887789e21e9fbf150e9f8",
        "_cell_guid": "c1b464a7-3c69-4acb-adcb-00d8b3ec9c93"
      },
      "cell_type": "markdown",
      "source": "# Recommendation models"
    },
    {
      "metadata": {
        "_uuid": "bd73e13a984d412908272360c701c15b58f412df",
        "_cell_guid": "a73d197f-1700-40ae-b20c-cab9b8e0c008"
      },
      "cell_type": "markdown",
      "source": "Cleaning complete."
    },
    {
      "metadata": {
        "_uuid": "523277beb220f90b2f7fb58dab680e22db2aa325",
        "_cell_guid": "fa6ad634-5c47-41e1-adeb-47fe2bd8f1b9"
      },
      "cell_type": "markdown",
      "source": "## Recommend with Filtering"
    },
    {
      "metadata": {
        "_uuid": "5fb7d8cd461f7ab0b279acdfc135bfb3c302c3e8",
        "_cell_guid": "1ca487dc-253b-4a5e-ab00-516ee846306a"
      },
      "cell_type": "markdown",
      "source": "Evaluting performance of [collaborative filtering](https://en.wikipedia.org/wiki/Collaborative_filtering), with first 0.1 Million rows (for faster process)"
    },
    {
      "metadata": {
        "_uuid": "a59aaac88ca121b93fcd8807e462dc7f0b609254",
        "_cell_guid": "fa414c7c-f908-40fa-bc99-9b221748c923",
        "scrolled": false,
        "trusted": true
      },
      "cell_type": "code",
      "source": "reader = Reader()\n\n# get just top 100K rows for faster run time\ndata = Dataset.load_from_df(df[['Cust_Id', 'Movie_Id', 'Rating']][:100000], reader)\ndata.split(n_folds=3)\n\nsvd = SVD()\nevaluate(svd, data, measures=['RMSE', 'MAE'])",
      "execution_count": 17,
      "outputs": [
        {
          "output_type": "stream",
          "text": "/opt/conda/lib/python3.6/site-packages/surprise/evaluate.py:66: UserWarning: The evaluate() method is deprecated. Please use model_selection.cross_validate() instead.\n  'model_selection.cross_validate() instead.', UserWarning)\n/opt/conda/lib/python3.6/site-packages/surprise/dataset.py:193: UserWarning: Using data.split() or using load_from_folds() without using a CV iterator is now deprecated. \n  UserWarning)\n",
          "name": "stderr"
        },
        {
          "output_type": "stream",
          "text": "Evaluating RMSE, MAE of algorithm SVD.\n\n------------\nFold 1\nRMSE: 0.9871\nMAE:  0.8117\n------------\nFold 2\nRMSE: 0.9830\nMAE:  0.8021\n------------\nFold 3\nRMSE: 0.9869\nMAE:  0.8010\n------------\n------------\nMean RMSE: 0.9857\nMean MAE : 0.8049\n------------\n------------\n",
          "name": "stdout"
        },
        {
          "output_type": "execute_result",
          "execution_count": 17,
          "data": {
            "text/plain": "CaseInsensitiveDefaultDict(list,\n                           {'rmse': [0.9871039831833791,\n                             0.9830108001091649,\n                             0.9868908793074238],\n                            'mae': [0.8116807641081132,\n                             0.802147210945182,\n                             0.8009528349391196]})"
          },
          "metadata": {}
        }
      ]
    },
    {
      "metadata": {
        "_uuid": "9c519e55ef4ae222556048f22bb55e4c8885d864",
        "_cell_guid": "c02b147f-b163-4a67-897e-881fbe2d69cd"
      },
      "cell_type": "markdown",
      "source": "Below is what user 783514 liked in the past:"
    },
    {
      "metadata": {
        "_uuid": "7b832da6358dc5ad2b3c4c2a60e73cacdfe0fe75",
        "_cell_guid": "dca8773e-5a63-4ac8-9691-77d6a50e1485",
        "trusted": true,
        "scrolled": true
      },
      "cell_type": "code",
      "source": "df_785314 = df[(df['Cust_Id'] == 785314) & (df['Rating'] == 5)]\ndf_785314 = df_785314.set_index('Movie_Id')\ndf_785314 = df_785314.join(df_title)['Name']\nprint(df_785314)\n",
      "execution_count": 18,
      "outputs": [
        {
          "output_type": "stream",
          "text": "Movie_Id\n175                                        Reservoir Dogs\n311                                               Ed Wood\n329                                                 Dogma\n331                                           Chasing Amy\n788                                                Clerks\n798                                                  Jaws\n907                                       Animal Crackers\n985                                             The Mummy\n1552                                          Black Adder\n1905    Pirates of the Caribbean: The Curse of the Bla...\n2000                          Four Weddings and a Funeral\n2122                                 Being John Malkovich\n2342                                        Super Size Me\n2360                                  Singin' in the Rain\n2430                           Alien: Collector's Edition\n2443                             Like Water for Chocolate\n2452        Lord of the Rings: The Fellowship of the Ring\n2465                                   This Is Spinal Tap\n2554                        The Rocky Horror Picture Show\n2848                                          The Hustler\n2862                             The Silence of the Lambs\n3150                     Monty Python: The Life of Python\n3168                            Evil Dead 2: Dead by Dawn\n3198                                    The Addams Family\n3315                                   The Maltese Falcon\n3446                                        Spirited Away\n3489                                         Time Bandits\n3590                              Jason and the Argonauts\n3648            Who Framed Roger Rabbit?: Special Edition\n3798                                            The Sting\n3935                                     Yellow Submarine\n3962                            Finding Nemo (Widescreen)\n4080                                        A Mighty Wind\n4227                                       The Full Monty\n4306                                      The Sixth Sense\n4345                                Bowling for Columbine\n4356                                    Road to Perdition\n4392                                     Army of Darkness\n4454                                 To Have and Have Not\nName: Name, dtype: object\n",
          "name": "stdout"
        }
      ]
    },
    {
      "metadata": {
        "_uuid": "c18f9856722f273498b9192e2b722077b9d86962",
        "_cell_guid": "fac49661-d5d9-4d1d-a3f5-110220f18b89"
      },
      "cell_type": "markdown",
      "source": "Predicting which movies user 785314 would love to watch:"
    },
    {
      "metadata": {
        "_uuid": "6f47935958ad57c568fa58253a83452abe83fbed",
        "_cell_guid": "7da1d4f5-ef96-4f33-96ae-a66028f8926d",
        "trusted": true
      },
      "cell_type": "code",
      "source": "user_785314 = df_title.copy()\nuser_785314 = user_785314.reset_index()\nuser_785314 = user_785314[~user_785314['Movie_Id'].isin(drop_movie_list)]\n\n# getting full dataset\ndata = Dataset.load_from_df(df[['Cust_Id', 'Movie_Id', 'Rating']], reader)\n\ntrainset = data.build_full_trainset()\nsvd.train(trainset)\n\nuser_785314['Estimate_Score'] = user_785314['Movie_Id'].apply(lambda x: svd.predict(785314, x).est)\n\nuser_785314 = user_785314.drop('Movie_Id', axis = 1)\n\nuser_785314 = user_785314.sort_values('Estimate_Score', ascending=False)\nprint(user_785314.head(10))",
      "execution_count": 19,
      "outputs": [
        {
          "output_type": "stream",
          "text": "/opt/conda/lib/python3.6/site-packages/surprise/prediction_algorithms/algo_base.py:51: UserWarning: train() is deprecated. Use fit() instead\n  warnings.warn('train() is deprecated. Use fit() instead', UserWarning)\n",
          "name": "stderr"
        },
        {
          "output_type": "stream",
          "text": "        Year      ...       Estimate_Score\n2101  1994.0      ...             4.980016\n3045  1990.0      ...             4.965393\n2056  2001.0      ...             4.936403\n2171  1991.0      ...             4.921201\n328   1999.0      ...             4.802790\n3149  2000.0      ...             4.802574\n3443  2004.0      ...             4.792867\n1727  1987.0      ...             4.782271\n3520  2000.0      ...             4.781964\n2113  2002.0      ...             4.769425\n\n[10 rows x 3 columns]\n",
          "name": "stdout"
        }
      ]
    },
    {
      "metadata": {
        "_uuid": "f24caa335865e13f5e0feb47bfb0b47996c69570",
        "_cell_guid": "25d88f52-36a2-4c62-bdc5-fee174b1aab7"
      },
      "cell_type": "markdown",
      "source": "## Recommend with Linear correlations"
    },
    {
      "metadata": {
        "_uuid": "4d4082f49c67f7406af44d9125ddab4c16ca967e",
        "_cell_guid": "d1220239-a049-4543-9ab6-89e1d00d6cdd"
      },
      "cell_type": "markdown",
      "source": "Using Pearsons' R correlation to measure  linear correlation between review scores of all pairs of movies, then we provide the top 10 movies with highest correlations:"
    },
    {
      "metadata": {
        "_uuid": "531e21998a34956e35f3e0a839e18d528faa6709",
        "_cell_guid": "200cf4e8-59d6-459d-a0e5-5c9452bc8ad0",
        "trusted": true
      },
      "cell_type": "code",
      "source": "def recommend(movie_title, min_count):\n    print(\"For movie ({})\".format(movie_title))\n    print(\"- Top 10 movies recommended based on Pearsons'R correlation - \")\n    i = int(df_title.index[df_title['Name'] == movie_title][0])\n    target = df_p[i]\n    similar_to_target = df_p.corrwith(target)\n    corr_target = pd.DataFrame(similar_to_target, columns = ['PearsonR'])\n    corr_target.dropna(inplace = True)\n    corr_target = corr_target.sort_values('PearsonR', ascending = False)\n    corr_target.index = corr_target.index.map(int)\n    corr_target = corr_target.join(df_title).join(df_movie_summary)[['PearsonR', 'Name', 'count', 'mean']]\n    print(corr_target[corr_target['count']>min_count][:10].to_string(index=False))",
      "execution_count": 20,
      "outputs": []
    },
    {
      "metadata": {
        "_uuid": "e7b9374a3c6bcd9d890f1a1462d6d4f2cb55dad5",
        "_cell_guid": "c06b5afa-cf47-4853-a712-ee0afe60b994"
      },
      "cell_type": "markdown",
      "source": "A recommendation for you if you like 'What the #$*! Do We Know!?' title on Netflix. Here like implies having given a thumbs up rating."
    },
    {
      "metadata": {
        "_uuid": "903cb1f6529d9d93deb557b5ac7eeba4b42d8a53",
        "_cell_guid": "9691bc55-4bde-4580-ae43-f9698e46ab81",
        "trusted": true
      },
      "cell_type": "code",
      "source": "recommend(\"What the #$*! Do We Know!?\", 0)",
      "execution_count": 21,
      "outputs": [
        {
          "output_type": "stream",
          "text": "For movie (What the #$*! Do We Know!?)\n- Top 10 movies recommended based on Pearsons'R correlation - \nPearsonR                                      Name  count      mean\n                                                                   \n1.000000                What the #$*! Do We Know!?  14910  3.189805\n0.326285                          The 10th Kingdom   4532  3.669903\n0.324225              Star Trek: Voyager: Season 5   4175  4.111377\n0.316818                                  Together   3958  3.889843\n0.312717      Star Trek: Deep Space Nine: Season 5   4373  4.160759\n0.309444           To Gillian on her 37th Birthday   4261  3.102793\n0.289334              Murder on the Orient Express   4785  3.743783\n0.288829        Nausicaa of the Valley of the Wind   6674  4.189542\n0.288389  Star Trek: The Next Generation: Season 5   8978  4.247494\n0.286320         The Life & Death of Peter Sellers   4702  3.099957\n",
          "name": "stdout"
        }
      ]
    },
    {
      "metadata": {
        "_uuid": "3646da79d856c2895001832bedb3bf5236a84166",
        "_cell_guid": "c4f1cfbe-0c57-46b5-97d4-1f9466862802"
      },
      "cell_type": "markdown",
      "source": "X2: X-Men United:"
    },
    {
      "metadata": {
        "_uuid": "8586765d4b658bea95997f4418b7ae14c2c6be3d",
        "_cell_guid": "9fc24be5-1037-4208-b1ca-07e2e9f8c4a7",
        "trusted": true,
        "scrolled": true
      },
      "cell_type": "code",
      "source": "recommend(\"X2: X-Men United\", 0)",
      "execution_count": 22,
      "outputs": [
        {
          "output_type": "stream",
          "text": "For movie (X2: X-Men United)\n- Top 10 movies recommended based on Pearsons'R correlation - \nPearsonR                      Name   count      mean\n                                                    \n1.000000          X2: X-Men United   98720  3.932202\n0.342535             Batman Begins   54922  4.236699\n0.313025  Mortal Kombat: The Movie    7633  3.165466\n0.311354      The Matrix: Reloaded  106807  3.514704\n0.303351    Todd McFarlane's Spawn    4684  3.612511\n0.295555   The Matrix: Revolutions   60415  3.517040\n0.295549                Species II    7526  2.781424\n0.294434                 Daredevil   62628  2.979642\n0.293918      Smallville: Season 1   10082  4.169609\n0.293820            Blade: Trinity   42727  3.548974\n",
          "name": "stdout"
        }
      ]
    }
  ],
  "metadata": {
    "language_info": {
      "name": "python",
      "version": "3.6.6",
      "mimetype": "text/x-python",
      "codemirror_mode": {
        "name": "ipython",
        "version": 3
      },
      "pygments_lexer": "ipython3",
      "nbconvert_exporter": "python",
      "file_extension": ".py"
    },
    "kernelspec": {
      "display_name": "Python 3",
      "language": "python",
      "name": "python3"
    }
  },
  "nbformat": 4,
  "nbformat_minor": 1
}